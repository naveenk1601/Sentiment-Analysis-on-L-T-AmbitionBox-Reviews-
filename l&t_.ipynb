{
 "cells": [
  {
   "cell_type": "code",
   "execution_count": 25,
   "metadata": {},
   "outputs": [],
   "source": [
    "from bs4 import BeautifulSoup\n",
    "import requests\n",
    "import pandas as pd\n",
    "import numpy as np"
   ]
  },
  {
   "cell_type": "code",
   "execution_count": 26,
   "metadata": {},
   "outputs": [],
   "source": [
    "user_agent = \"Mozilla/5.0 (Windows NT 10.0; Win64; x64) AppleWebKit/537.36 (KHTML, like Gecko) Chrome/122.0.0.0 Safari/537.36\"\n",
    "HEADER = ({'User-Agent':user_agent, 'Accept-Language' : 'en-US, en;q=0.5'})\n",
    "user_agent = \"Mozilla/5.0 (Windows NT 10.0; Win64; x64) AppleWebKit/537.36 (KHTML, like Gecko) Chrome/122.0.0.0 Safari/537.36\""
   ]
  },
  {
   "cell_type": "code",
   "execution_count": 27,
   "metadata": {},
   "outputs": [],
   "source": [
    "def url_2_webpage(URL):\n",
    "    webpage = requests.get(URL, headers=HEADER)\n",
    "    soup = BeautifulSoup(webpage.content, 'html.parser')\n",
    "    return soup"
   ]
  },
  {
   "cell_type": "code",
   "execution_count": 28,
   "metadata": {},
   "outputs": [],
   "source": [
    "def get_reviews(soup):\n",
    "    list_review = soup.find_all(\"div\", attrs={\"itemprop\":\"reviewBody\"})\n",
    "    review_list = []\n",
    "    for review in list_review:\n",
    "        try:\n",
    "            review_list.append((review.find_all(\"p\", attrs={\"class\":\"body-medium overflow-wrap\"})[0].text + review.find_all(\"p\", attrs={\"class\":\"body-medium overflow-wrap\"})[1].text).replace(\"\\n\", \" \").replace(\"\\t\", \" \"))\n",
    "        except:\n",
    "            review_list.append(\"\")\n",
    "\n",
    "    return review_list"
   ]
  },
  {
   "cell_type": "code",
   "execution_count": 29,
   "metadata": {},
   "outputs": [],
   "source": [
    "def get_rating(soup):\n",
    "    list_rating = soup.find_all(\"span\", attrs={\"class\":\"avg-rating bold-Labels\"})\n",
    "    rating_list = []\n",
    "    for rating in list_rating:\n",
    "        rating_list.append(rating.text)\n",
    "\n",
    "    return rating_list"
   ]
  },
  {
   "cell_type": "code",
   "execution_count": 30,
   "metadata": {},
   "outputs": [],
   "source": [
    "d = {'review':[], \"rating\": []}"
   ]
  },
  {
   "cell_type": "code",
   "execution_count": 31,
   "metadata": {},
   "outputs": [
    {
     "name": "stdout",
     "output_type": "stream",
     "text": [
      "{'review': ['I would say people must work in L&T once to know that it could not be worse elsewhere.  A bulletproof system to suck every bit of thrill of employee and flourish their wealth. Managers often state we want obident not intelligent employees. They are happy to reward people who are yes boss type, will not question the practice and punish many thinking engineers as they question.  Bosses in L&T have built a fortress of favourism within group and made a practice to deprive others.  The senior management praisepeople for staying long, coming to office on weekend ignoring personal committment, family matters, physical and mental wellbeing, which  ensures obedience.  L&T marks my maximum loss to monetary and moral wellbeing.  Adding more to injury, managers in L&T use abusive language and loves to make personal remarks also... Never found such a culture in any other company....Read More', '1. Overall a good company to work for! 2. Timely payment of salary 3. Focuses on continuous learning & improvement of staffs 1. Too much work pressure 2. Sometimes the working hours are too high', \"I have worked with L&T and found that the top management always support to staff for the new implementation to develop the culture. Very few old staff don't want to accept the new implementation due to their regidness\", 'Good Learning, Freedom of Work, Job Security, Develop Technical as well as Managerial Skill during work Work life Unbalance, Duty Time to High, Pramotion average, Appraisal  not satisfactory base on individual performance', 'Company culture is good but only for payroll employees above M1A cadre. Salary growth very low just because basic salary is low.', \"Continuous followup for Work from top to bottom No work life Balance. No increment according to Inflation. 12+ Hrs working in day. No holiday and Sunday. All sunday and Holiday working. If you're leaving before Notice period they're threatening you and Not giving clearance Certificate. Terrible Things And people are not helping\", 'Civil supervisor Electric ,fair Laine, haide of work, chemical work and welding', \"Nothing there to like about the lnt, more politics at every stage, we can't trust anyone Even you can't trust your manager in lnt, really  culture was not good, top management doesn't bothered about us , and coming to HR dept they are like robot, just for name have hr in company, they don't have any power to take actions\", 'Because  l&t construction  multiple  company & future  growth  successful No because  allways  focus to work  and responsibilities  to continues  work completed', 'All staff are supporting eachother even living in community.helping eachother in their needs. Initially culture was good but nowadays exhausting culture. Several restrictions in system.'], 'rating': ['2.0', '4.0', '5.0', '4.0', '3.0', '3.0', '5.0', '2.0', '5.0', '4.0']}\n"
     ]
    }
   ],
   "source": [
    "URL = \"https://www.ambitionbox.com/reviews/larsen-and-toubro-limited-reviews\"\n",
    "soup = url_2_webpage(URL)\n",
    "review_list = get_reviews(soup)\n",
    "rating_list = get_rating(soup)\n",
    "for i in range(10):\n",
    "    d['review'].append(review_list[i])\n",
    "    d['rating'].append(rating_list[i])\n",
    "\n",
    "print(d)"
   ]
  },
  {
   "cell_type": "code",
   "execution_count": 32,
   "metadata": {},
   "outputs": [],
   "source": [
    "for i in range(2, 1000):\n",
    "    URL = \"https://www.ambitionbox.com/reviews/larsen-and-toubro-limited-reviews\" + \"?page=\" + str(i)\n",
    "    soup = url_2_webpage(URL)\n",
    "    review_list = get_reviews(soup)\n",
    "    rating_list = get_rating(soup)\n",
    "    for i in range(10):\n",
    "        d['review'].append(review_list[i])\n",
    "        d['rating'].append(rating_list[i]) "
   ]
  },
  {
   "cell_type": "code",
   "execution_count": 33,
   "metadata": {},
   "outputs": [
    {
     "data": {
      "text/html": [
       "<div>\n",
       "<style scoped>\n",
       "    .dataframe tbody tr th:only-of-type {\n",
       "        vertical-align: middle;\n",
       "    }\n",
       "\n",
       "    .dataframe tbody tr th {\n",
       "        vertical-align: top;\n",
       "    }\n",
       "\n",
       "    .dataframe thead th {\n",
       "        text-align: right;\n",
       "    }\n",
       "</style>\n",
       "<table border=\"1\" class=\"dataframe\">\n",
       "  <thead>\n",
       "    <tr style=\"text-align: right;\">\n",
       "      <th></th>\n",
       "      <th>review</th>\n",
       "      <th>rating</th>\n",
       "    </tr>\n",
       "  </thead>\n",
       "  <tbody>\n",
       "    <tr>\n",
       "      <th>0</th>\n",
       "      <td>I would say people must work in L&amp;T once to kn...</td>\n",
       "      <td>2.0</td>\n",
       "    </tr>\n",
       "    <tr>\n",
       "      <th>1</th>\n",
       "      <td>1. Overall a good company to work for! 2. Time...</td>\n",
       "      <td>4.0</td>\n",
       "    </tr>\n",
       "    <tr>\n",
       "      <th>2</th>\n",
       "      <td>I have worked with L&amp;T and found that the top ...</td>\n",
       "      <td>5.0</td>\n",
       "    </tr>\n",
       "    <tr>\n",
       "      <th>3</th>\n",
       "      <td>Good Learning, Freedom of Work, Job Security, ...</td>\n",
       "      <td>4.0</td>\n",
       "    </tr>\n",
       "    <tr>\n",
       "      <th>4</th>\n",
       "      <td>Company culture is good but only for payroll e...</td>\n",
       "      <td>3.0</td>\n",
       "    </tr>\n",
       "    <tr>\n",
       "      <th>...</th>\n",
       "      <td>...</td>\n",
       "      <td>...</td>\n",
       "    </tr>\n",
       "    <tr>\n",
       "      <th>9985</th>\n",
       "      <td>Working ambience of the factory is too good. S...</td>\n",
       "      <td>5.0</td>\n",
       "    </tr>\n",
       "    <tr>\n",
       "      <th>9986</th>\n",
       "      <td>Super Super</td>\n",
       "      <td>5.0</td>\n",
       "    </tr>\n",
       "    <tr>\n",
       "      <th>9987</th>\n",
       "      <td>Company policies are good i.e. salary is on ti...</td>\n",
       "      <td>4.0</td>\n",
       "    </tr>\n",
       "    <tr>\n",
       "      <th>9988</th>\n",
       "      <td>Company police Politics</td>\n",
       "      <td>4.0</td>\n",
       "    </tr>\n",
       "    <tr>\n",
       "      <th>9989</th>\n",
       "      <td>Best Field for Skill Development in Constructi...</td>\n",
       "      <td>4.0</td>\n",
       "    </tr>\n",
       "  </tbody>\n",
       "</table>\n",
       "<p>9990 rows × 2 columns</p>\n",
       "</div>"
      ],
      "text/plain": [
       "                                                 review rating\n",
       "0     I would say people must work in L&T once to kn...    2.0\n",
       "1     1. Overall a good company to work for! 2. Time...    4.0\n",
       "2     I have worked with L&T and found that the top ...    5.0\n",
       "3     Good Learning, Freedom of Work, Job Security, ...    4.0\n",
       "4     Company culture is good but only for payroll e...    3.0\n",
       "...                                                 ...    ...\n",
       "9985  Working ambience of the factory is too good. S...    5.0\n",
       "9986                                        Super Super    5.0\n",
       "9987  Company policies are good i.e. salary is on ti...    4.0\n",
       "9988                            Company police Politics    4.0\n",
       "9989  Best Field for Skill Development in Constructi...    4.0\n",
       "\n",
       "[9990 rows x 2 columns]"
      ]
     },
     "execution_count": 33,
     "metadata": {},
     "output_type": "execute_result"
    }
   ],
   "source": [
    "l_and_t_df = pd.DataFrame.from_dict(d)\n",
    "\n",
    "l_and_t_df"
   ]
  },
  {
   "cell_type": "code",
   "execution_count": 34,
   "metadata": {},
   "outputs": [],
   "source": [
    "l_and_t_df.to_csv('l&t_review_and_rating_ambitionbox.csv', index=False)"
   ]
  },
  {
   "cell_type": "code",
   "execution_count": null,
   "metadata": {},
   "outputs": [],
   "source": []
  },
  {
   "cell_type": "code",
   "execution_count": null,
   "metadata": {},
   "outputs": [],
   "source": []
  },
  {
   "cell_type": "code",
   "execution_count": null,
   "metadata": {},
   "outputs": [],
   "source": []
  },
  {
   "cell_type": "code",
   "execution_count": null,
   "metadata": {},
   "outputs": [],
   "source": []
  }
 ],
 "metadata": {
  "kernelspec": {
   "display_name": "base",
   "language": "python",
   "name": "python3"
  },
  "language_info": {
   "codemirror_mode": {
    "name": "ipython",
    "version": 3
   },
   "file_extension": ".py",
   "mimetype": "text/x-python",
   "name": "python",
   "nbconvert_exporter": "python",
   "pygments_lexer": "ipython3",
   "version": "3.11.5"
  }
 },
 "nbformat": 4,
 "nbformat_minor": 2
}
